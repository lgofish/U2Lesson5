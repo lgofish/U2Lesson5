{
 "cells": [
  {
   "cell_type": "markdown",
   "metadata": {},
   "source": [
    "# your goal is to achieve a model with a consistent R2 and only statistically significant parameters across multiple samples"
   ]
  },
  {
   "cell_type": "code",
   "execution_count": 1,
   "metadata": {},
   "outputs": [],
   "source": [
    "import math\n",
    "\n",
    "from matplotlib import pyplot as plt\n",
    "import numpy as np\n",
    "import pandas as pd\n",
    "import seaborn as sns\n",
    "import statsmodels.formula.api as smf\n",
    "from statsmodels.sandbox.regression.predstd import wls_prediction_std\n",
    "\n",
    "%matplotlib inline\n",
    "sns.set_style('white')"
   ]
  },
  {
   "cell_type": "code",
   "execution_count": 2,
   "metadata": {},
   "outputs": [],
   "source": [
    "# Grab and process the raw data.\n",
    "data_path = (\"known_offenses_nyc2013.csv\")"
   ]
  },
  {
   "cell_type": "code",
   "execution_count": 3,
   "metadata": {},
   "outputs": [],
   "source": [
    "data_raw = pd.read_csv(data_path)"
   ]
  },
  {
   "cell_type": "code",
   "execution_count": 4,
   "metadata": {},
   "outputs": [],
   "source": [
    "data_raw['pop_num'] = pd.to_numeric(data_raw['Population'].str.replace(',',''))\n",
    "data_raw['pop_squared']=data_raw['pop_num']**2\n",
    "data_raw['Murder_Cat'] = np.where((data_raw['Murder and\\rnonnegligent\\rmanslaughter'] > 0),1,0)\n",
    "data_raw['robbery_num'] = pd.to_numeric(data_raw['Robbery'].str.replace(',',''))\n",
    "data_raw['robbery_cat'] = np.where((data_raw['robbery_num'] > 0),1,0)\n",
    "data_raw['Aggravated\\rassault'] = pd.to_numeric(data_raw['Aggravated\\rassault'].str.replace(',',''))\n",
    "data_raw['Property\\rcrime'] = pd.to_numeric(data_raw['Property\\rcrime'].str.replace(',',''))\n",
    "data_raw['Burglary'] = pd.to_numeric(data_raw['Burglary'].str.replace(',',''))\n",
    "data_raw['Larceny-\\rtheft'] = pd.to_numeric(data_raw['Larceny-\\rtheft'].str.replace(',',''))\n",
    "data_raw['Motor\\rvehicle\\rtheft'] = pd.to_numeric(data_raw['Motor\\rvehicle\\rtheft'].str.replace(',',''))\n",
    "data_raw['Violent\\rcrime'] = pd.to_numeric(data_raw['Violent\\rcrime'].str.replace(',',''))\n",
    "data_raw['Rape\\r(legacy\\rdefinition)2'] = pd.to_numeric(data_raw['Rape\\r(legacy\\rdefinition)2'].str.replace(',',''))\n",
    "data_raw['crime_per_person']=(data_raw['Property\\rcrime']/data_raw['pop_num'])"
   ]
  },
  {
   "cell_type": "code",
   "execution_count": 5,
   "metadata": {},
   "outputs": [
    {
     "data": {
      "text/plain": [
       "City                                       object\n",
       "Population                                 object\n",
       "Violent\\rcrime                            float64\n",
       "Murder and\\rnonnegligent\\rmanslaughter    float64\n",
       "Rape\\r(revised\\rdefinition)1              float64\n",
       "Rape\\r(legacy\\rdefinition)2               float64\n",
       "Robbery                                    object\n",
       "Aggravated\\rassault                       float64\n",
       "Property\\rcrime                           float64\n",
       "Burglary                                  float64\n",
       "Larceny-\\rtheft                           float64\n",
       "Motor\\rvehicle\\rtheft                     float64\n",
       "Arson3                                    float64\n",
       "Unnamed: 13                               float64\n",
       "pop_num                                   float64\n",
       "pop_squared                               float64\n",
       "Murder_Cat                                  int64\n",
       "robbery_num                               float64\n",
       "robbery_cat                                 int64\n",
       "crime_per_person                          float64\n",
       "dtype: object"
      ]
     },
     "execution_count": 5,
     "metadata": {},
     "output_type": "execute_result"
    }
   ],
   "source": [
    "data_raw.dtypes"
   ]
  },
  {
   "cell_type": "code",
   "execution_count": null,
   "metadata": {},
   "outputs": [],
   "source": [
    "# "
   ]
  }
 ],
 "metadata": {
  "kernelspec": {
   "display_name": "Python 3",
   "language": "python",
   "name": "python3"
  },
  "language_info": {
   "codemirror_mode": {
    "name": "ipython",
    "version": 3
   },
   "file_extension": ".py",
   "mimetype": "text/x-python",
   "name": "python",
   "nbconvert_exporter": "python",
   "pygments_lexer": "ipython3",
   "version": "3.6.4"
  }
 },
 "nbformat": 4,
 "nbformat_minor": 2
}
